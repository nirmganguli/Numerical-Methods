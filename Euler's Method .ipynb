{
 "cells": [
  {
   "cell_type": "markdown",
   "metadata": {},
   "source": [
    "# Euler's method "
   ]
  },
  {
   "cell_type": "code",
   "execution_count": 7,
   "metadata": {},
   "outputs": [
    {
     "name": "stdout",
     "output_type": "stream",
     "text": [
      "Value of y when x=0.1 :  1.092831936029184\n"
     ]
    }
   ],
   "source": [
    "def func(x, y):\n",
    "    return (y-x)/(y+x)        # dy/dx= y-x/x+y\n",
    "\n",
    "\n",
    "#Let us have some initial conditions: y=1, when x=0 and we need to find y when x=0.1 having a step size h=0.02\n",
    "\n",
    "x=0\n",
    "y=1\n",
    "h=0.02\n",
    "while(1):\n",
    "    y=y + h*func(x, y)\n",
    "    x=x+h\n",
    "    if(x>=0.1):\n",
    "        break\n",
    "    \n",
    "print(\"Value of y when x=0.1 : \", y)\n",
    "        \n",
    "    \n",
    "    "
   ]
  },
  {
   "cell_type": "code",
   "execution_count": null,
   "metadata": {},
   "outputs": [],
   "source": []
  }
 ],
 "metadata": {
  "kernelspec": {
   "display_name": "Python 3",
   "language": "python",
   "name": "python3"
  },
  "language_info": {
   "codemirror_mode": {
    "name": "ipython",
    "version": 3
   },
   "file_extension": ".py",
   "mimetype": "text/x-python",
   "name": "python",
   "nbconvert_exporter": "python",
   "pygments_lexer": "ipython3",
   "version": "3.7.4"
  }
 },
 "nbformat": 4,
 "nbformat_minor": 2
}
