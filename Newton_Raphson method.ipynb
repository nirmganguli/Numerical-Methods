{
 "cells": [
  {
   "cell_type": "markdown",
   "metadata": {},
   "source": [
    "## Newton Raphson's Method or the tangent method "
   ]
  },
  {
   "cell_type": "code",
   "execution_count": 2,
   "metadata": {},
   "outputs": [
    {
     "name": "stdout",
     "output_type": "stream",
     "text": [
      "Enter guess root0\n",
      "Enter degree of accuracy, like 0.00001 :0.0001\n",
      "The approximated root of the equation is:  1.3247179572453902\n"
     ]
    }
   ],
   "source": [
    "# Let the function be x^3 - x- 1=0, its derivative w.r.t x= 3x^2 - 1\n",
    "\n",
    "def func(x):\n",
    "    return x**3-x-1\n",
    "def df(x):\n",
    "    return 3* (x**2)-1\n",
    "\n",
    "x=float(input(\"Enter guess root\"))\n",
    "\n",
    "n=float(input(\"Enter degree of accuracy, like 0.00001 :\"))\n",
    "xn=0\n",
    "while(1):\n",
    "    xn=x- func(x)/df(x)\n",
    "    if(abs(xn-x)<n):\n",
    "        break\n",
    "    x=xn\n",
    "print(\"The approximated root of the equation is: \", xn)\n",
    "    "
   ]
  },
  {
   "cell_type": "code",
   "execution_count": null,
   "metadata": {},
   "outputs": [],
   "source": []
  }
 ],
 "metadata": {
  "kernelspec": {
   "display_name": "Python 3",
   "language": "python",
   "name": "python3"
  },
  "language_info": {
   "codemirror_mode": {
    "name": "ipython",
    "version": 3
   },
   "file_extension": ".py",
   "mimetype": "text/x-python",
   "name": "python",
   "nbconvert_exporter": "python",
   "pygments_lexer": "ipython3",
   "version": "3.7.4"
  }
 },
 "nbformat": 4,
 "nbformat_minor": 2
}
